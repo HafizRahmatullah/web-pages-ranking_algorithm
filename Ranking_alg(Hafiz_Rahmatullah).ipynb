{
 "cells": [
  {
   "cell_type": "code",
   "execution_count": 94,
   "id": "237a82e2-2e7f-440f-925e-2e59e6a1eb24",
   "metadata": {},
   "outputs": [],
   "source": [
    "data = { 'A':[20,400,2,1],\n",
    "         'B': [30,500,3,2],\n",
    "         'C':[10,300,3,1],\n",
    "         'D':[50,5000,6,3]\n",
    "}\n"
   ]
  },
  {
   "cell_type": "code",
   "execution_count": 93,
   "id": "0451683b-db06-4140-aa46-103214c88172",
   "metadata": {},
   "outputs": [
    {
     "name": "stdout",
     "output_type": "stream",
     "text": [
      "{'A': [40, 1200, 8, 5], 'B': [60, 1500, 12, 10], 'C': [20, 900, 12, 5], 'D': [100, 15000, 24, 15]}\n",
      "{'A': 1253, 'B': 1582, 'C': 937, 'D': 15139}\n",
      "[('C', 937), ('A', 1253), ('B', 1582), ('D', 15139)]\n",
      "{'C': [20, 900, 12, 5], 'A': [40, 1200, 8, 5], 'B': [60, 1500, 12, 10], 'D': [100, 15000, 24, 15]}\n"
     ]
    }
   ],
   "source": [
    "weights =[2,3,4,5]\n",
    "\n",
    "rankes = {}\n",
    "for keys, values in data.items():\n",
    "    rankes[keys] = [value*w for value,w in zip(values,weights)]\n",
    "lis = {}\n",
    "for keys, values in rankes.items():\n",
    "    lis[keys] = sum(values)\n",
    "\n",
    "    \n",
    "\n",
    "print(rankes)\n",
    "print(lis)\n",
    "print(sorted(lis.items(), key=lambda x:x[1]))\n",
    "\n",
    "\n",
    "    \n",
    "list1=[key for key,val in converted_dict.items()]\n",
    "sorted_dic={}\n",
    "for key in list1:\n",
    "    sorted_dic[key] = rankes[key]\n",
    "    \n",
    "print(sorted_dic)\n",
    "\n"
   ]
  }
 ],
 "metadata": {
  "kernelspec": {
   "display_name": "Python 3 (ipykernel)",
   "language": "python",
   "name": "python3"
  },
  "language_info": {
   "codemirror_mode": {
    "name": "ipython",
    "version": 3
   },
   "file_extension": ".py",
   "mimetype": "text/x-python",
   "name": "python",
   "nbconvert_exporter": "python",
   "pygments_lexer": "ipython3",
   "version": "3.10.12"
  }
 },
 "nbformat": 4,
 "nbformat_minor": 5
}
